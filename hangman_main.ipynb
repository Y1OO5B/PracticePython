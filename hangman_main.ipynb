{
  "cells": [
    {
      "cell_type": "markdown",
      "metadata": {
        "id": "view-in-github",
        "colab_type": "text"
      },
      "source": [
        "<a href=\"https://colab.research.google.com/github/Y1OO5B/PracticePython/blob/main/hangman_main.ipynb\" target=\"_parent\"><img src=\"https://colab.research.google.com/assets/colab-badge.svg\" alt=\"Open In Colab\"/></a>"
      ]
    },
    {
      "cell_type": "markdown",
      "metadata": {
        "id": "99a8dad6-ee58-418b-b380-7c1555d10287"
      },
      "source": [
        "# Final Project\n",
        "\n",
        "* This is the final project about Python basics.\n",
        "\n",
        "* For this final project, please write the correct answer between the comments `# START YOUR CODE HERE` and `# LAST LINE` in their respective question.\n",
        "\n",
        "* **DO NOT MODIFY OTHER PARTS OF THE CODE**\n",
        "\n",
        "* YoonBin Cho - 202201319 - Y1OO5B\n",
        "* JiWon Jenog - 202201317 - zzione\n"
      ],
      "id": "99a8dad6-ee58-418b-b380-7c1555d10287"
    },
    {
      "cell_type": "code",
      "execution_count": null,
      "metadata": {
        "id": "70fa1b49-541f-46af-99ff-99e2f456c9c8",
        "colab": {
          "base_uri": "https://localhost:8080/"
        },
        "outputId": "91a8d947-ace6-4cfa-ef93-baf39a379e76"
      },
      "outputs": [
        {
          "output_type": "stream",
          "name": "stdout",
          "text": [
            "Drive already mounted at /content/drive; to attempt to forcibly remount, call drive.mount(\"/content/drive\", force_remount=True).\n"
          ]
        }
      ],
      "source": [
        "# Import statements: DO NOT delete these! DO NOT write code above this! \n",
        "import random\n",
        "from random import randrange\n",
        "from string import *\n",
        "from google.colab import drive\n",
        "drive.mount('/content/drive')\n",
        "# from hangman_lib import *"
      ],
      "id": "70fa1b49-541f-46af-99ff-99e2f456c9c8"
    },
    {
      "cell_type": "code",
      "execution_count": null,
      "metadata": {
        "id": "9ea06f35-6faf-4631-a354-a4655d70d021"
      },
      "outputs": [],
      "source": [
        "# Start of helper code\n",
        "# -----------------------------------\n",
        "\n",
        "# Import words file\n",
        "WORDLIST_FILENAME = '/content/drive/MyDrive/words.txt'"
      ],
      "id": "9ea06f35-6faf-4631-a354-a4655d70d021"
    },
    {
      "cell_type": "code",
      "execution_count": null,
      "metadata": {
        "id": "474be7ba-3848-4f73-aa1b-20ff4a1e2c7c"
      },
      "outputs": [],
      "source": [
        "def load_words():\n",
        "    \"\"\"\n",
        "    Returns a list of valid words. Words are strings of lowercase letters.\n",
        "    \n",
        "    Depending on the size of the word list, this function may\n",
        "    take a while to finish.\n",
        "    \"\"\"\n",
        "    print (\"Loading word list from file...\")\n",
        "\n",
        "    ####### YOUR CODE HERE ######\n",
        "    wordlist = []\n",
        "    inFile = open(WORDLIST_FILENAME,'r')\n",
        "    line = inFile.readline()\n",
        "    wordlist = line.split()\n",
        "\n",
        "    print(\"  \", len(wordlist), \"words loaded.\")\n",
        "    inFile.close()\n",
        "    return wordlist\n",
        "    pass # This tells your code to skip this function; delete it when you\n",
        "         # start working on this function"
      ],
      "id": "474be7ba-3848-4f73-aa1b-20ff4a1e2c7c"
    },
    {
      "cell_type": "code",
      "execution_count": null,
      "metadata": {
        "id": "a4e645ee-73ec-48fb-8324-bd003720e0da"
      },
      "outputs": [],
      "source": [
        "# Run get_word() within your program to generate a random secret word\n",
        "# by using a line like this within your program:\n",
        "# secret_word = get_word()\n",
        "\n",
        "def get_word():\n",
        "    \"\"\"\n",
        "    Returns a random word from the word list\n",
        "    \"\"\"\n",
        "    ####### YOUR CODE HERE ######\n",
        "    rand_num = random.randrange(0, len(words_dict))\n",
        "    word = words_dict[rand_num]\n",
        "    return word"
      ],
      "id": "a4e645ee-73ec-48fb-8324-bd003720e0da"
    },
    {
      "cell_type": "code",
      "execution_count": null,
      "metadata": {
        "colab": {
          "base_uri": "https://localhost:8080/"
        },
        "id": "73069a4d-fdb0-4ede-a9f9-dd24c67ec2b9",
        "outputId": "54f85191-76a9-4132-8fe7-e63a1e09c11c"
      },
      "outputs": [
        {
          "output_type": "stream",
          "name": "stdout",
          "text": [
            "Loading word list from file...\n",
            "   55900 words loaded.\n"
          ]
        }
      ],
      "source": [
        "# actually load the dictionary of words and point to it with \n",
        "# the words_dict variable so that it can be accessed from anywhere\n",
        "# in the program\n",
        "words_dict = load_words()\n",
        "\n",
        "# end of helper code\n",
        "# -----------------------------------"
      ],
      "id": "73069a4d-fdb0-4ede-a9f9-dd24c67ec2b9"
    },
    {
      "cell_type": "code",
      "execution_count": null,
      "metadata": {
        "id": "e6819293-72d1-4f9a-b6aa-0594a3176dc3"
      },
      "outputs": [],
      "source": [
        "# CONSTANTS\n",
        "MAX_GUESSES = 6\n",
        "\n",
        "# GLOBAL VARIABLES \n",
        "secret_word = \"\"\n",
        "letters_guessed = []\n"
      ],
      "id": "e6819293-72d1-4f9a-b6aa-0594a3176dc3"
    },
    {
      "cell_type": "code",
      "execution_count": null,
      "metadata": {
        "id": "dc71ec96-feb7-4d4b-9b00-9122ef9540e7"
      },
      "outputs": [],
      "source": [
        "# From part 2, 3 and, 4:\n",
        "def word_guessed():\n",
        "    '''\n",
        "    Returns True if the player has successfully guessed the word,\n",
        "    and False otherwise.\n",
        "    '''\n",
        "    global secret_word\n",
        "    global letters_guessed\n",
        "\n",
        "    ####### YOUR CODE HERE ######\n",
        "    letters_correct = 0\n",
        "    for i in letters_guessed:\n",
        "        for j in range(0, len(secret_word)):\n",
        "            if i == secret_word[j]:\n",
        "                letters_correct += 1\n",
        "\n",
        "    if len(secret_word) == letters_correct:\n",
        "        return True\n",
        "    else:\n",
        "        return False\n",
        "        \n",
        "    pass # This tells your code to skip this function; delete it when you\n",
        "         # start working on this function"
      ],
      "id": "dc71ec96-feb7-4d4b-9b00-9122ef9540e7"
    },
    {
      "cell_type": "code",
      "execution_count": null,
      "metadata": {
        "id": "a36d1fb5-1248-45cc-a845-cd276e7e2ad3"
      },
      "outputs": [],
      "source": [
        "def print_guessed():\n",
        "    '''\n",
        "    Prints out the characters you have guessed in the secret word so far\n",
        "    '''\n",
        "    global secret_word\n",
        "    global letters_guessed\n",
        "    \n",
        "    ####### YOUR CODE HERE ######\n",
        "    letters_correct = {}\n",
        "    letters_unused = []\n",
        "    for i in range(ord('a'), ord('z')+1):\n",
        "        letters_unused.append(chr(i))\n",
        "\n",
        "    string_to_print = \"\"\n",
        "    for i in letters_guessed:\n",
        "        letters_unused.remove(i)\n",
        "        for j in range(0, len(secret_word)):\n",
        "            if i == secret_word[j]:\n",
        "                letters_correct[j] = secret_word[j]\n",
        "\n",
        "    for i in range(0, len(secret_word)):\n",
        "        if i in letters_correct:\n",
        "            string_to_print += secret_word[i]\n",
        "        else:\n",
        "            string_to_print += \"-\"\n",
        "\n",
        "    print(string_to_print)\n",
        "    print(\"Letters that hasn't been used:\", letters_unused)\n",
        "    return string_to_print\n",
        "    pass # This tells your code to skip this function; delete it when you\n",
        "         # start working on this function"
      ],
      "id": "a36d1fb5-1248-45cc-a845-cd276e7e2ad3"
    },
    {
      "cell_type": "code",
      "execution_count": null,
      "metadata": {
        "id": "495af04c-254a-4322-a0bf-ce37a2217d0e"
      },
      "outputs": [],
      "source": [
        "def play_hangman():\n",
        "    # Actually play the hangman game\n",
        "    global secret_word\n",
        "    global letters_guessed\n",
        "    # Put the mistakes_made variable here, since you'll only use it in this function\n",
        "    mistakes_made = 0\n",
        "    print('Starting game ... ')\n",
        "    # Update secret_word. Don't uncomment this line until you get to Step 6 (Second part).\n",
        "    # secret_word  = get_word()\n",
        "\n",
        "    ####### YOUR CODE HERE ######\n",
        "    while True:\n",
        "      mode_difficulty = input(\"Select the difficulty(easy, medium, hard): \")\n",
        "      if mode_difficulty.lower() == \"easy\":\n",
        "        MAX_GUESSES = 12\n",
        "        while not 1 < len(secret_word) < 4:\n",
        "            secret_word = get_word()\n",
        "        break\n",
        "      elif mode_difficulty.lower() == \"medium\":\n",
        "        MAX_GUESSES = 6\n",
        "        while not 4 <= len(secret_word) <= 8:\n",
        "            secret_word = get_word()\n",
        "        break\n",
        "      elif mode_difficulty.lower() == \"hard\":\n",
        "        MAX_GUESSES = 5\n",
        "        while not len(secret_word) > 8:\n",
        "            secret_word = get_word()\n",
        "        break\n",
        "      elif mode_difficulty.lower() == \"to.berny\":\n",
        "        print(\"Thank you for your python class, professor Berny! Happy holidays!\")\n",
        "      else:\n",
        "        print(\"You have inputted the incorrect difficulty!\")\n",
        "\n",
        "    while True:\n",
        "      mode_player = int(input(\"Select the player mode(Single->1, 2-player->2): \"))\n",
        "      if mode_player == 1 or mode_player == 2:\n",
        "        break\n",
        "      else:\n",
        "        print(\"You have inputted the incorrect player mode!\")\n",
        "    if mode_player == 1:\n",
        "        while (mistakes_made < MAX_GUESSES) and (not word_guessed()):  # loop until used all guesses or guessed it right\n",
        "            select_num = int(input(\"Select what you want to guess(letter->1, word->2), : \"))\n",
        "            if select_num == 1:\n",
        "                guess_bool = False\n",
        "                print(MAX_GUESSES - mistakes_made, \"guesses left\")\n",
        "                while True:  # loop it until you guess the letter that hasn't been guessed already\n",
        "                    dupli = False\n",
        "                    letter = input(\"Input a letter you guess: \")\n",
        "                    letter = letter.lower()\n",
        "                    for i in letters_guessed:  # if it's already guessed\n",
        "                        if i == letter:\n",
        "                            dupli = True\n",
        "                            print(\"It is already used!\")\n",
        "                            break\n",
        "                    if not dupli:  # if not guessed, use break to escape the loop\n",
        "                        break\n",
        "                letters_guessed.append(letter)\n",
        "                for i in range(0, len(secret_word)):  # check whether the letter is in the word\n",
        "                    if letter == secret_word[i]:\n",
        "                        guess_bool = True\n",
        "                        break\n",
        "                if guess_bool:  # if it's in\n",
        "                    print(\"You guessed right!\")\n",
        "                    print_guessed()\n",
        "                else:  # if it's not in\n",
        "                    print(\"You guessed wrong!\")\n",
        "                    print_guessed()\n",
        "                    mistakes_made += 1\n",
        "            elif select_num == 2:\n",
        "                guess_bool = False\n",
        "                print(MAX_GUESSES - mistakes_made, \"guesses left\")\n",
        "                word = input(\"Input a word you guess: \")\n",
        "                word = word.lower()\n",
        "                if word == secret_word:\n",
        "                    print(\"You guessed right!\")\n",
        "                    break\n",
        "                else:\n",
        "                    print(\"You guessed wrong!\")\n",
        "                    print_guessed()\n",
        "                    mistakes_made += 2\n",
        "            else:\n",
        "                print(\"Input the correct number!\")\n",
        "\n",
        "        if word_guessed():\n",
        "            print(\"You won!!!\")\n",
        "        else:\n",
        "            print(\"The secret word is\", secret_word + \"!\")\n",
        "            print(\"You lost...\")\n",
        "\n",
        "    elif mode_player == 2:\n",
        "        attempt = 1\n",
        "        MAX_GUESSES *= 2\n",
        "        while (mistakes_made < MAX_GUESSES) and (not word_guessed()):  # mostly same as single player\n",
        "            if attempt % 2 == 1:\n",
        "                print(\"Player1's turn!\")\n",
        "            else:\n",
        "                print(\"Player2's turn!\")\n",
        "\n",
        "            select_num = int(input(\"Select what you want to guess(letter->1, word->2), : \"))\n",
        "            if select_num == 1:\n",
        "                guess_bool = False\n",
        "                print(MAX_GUESSES - mistakes_made, \"guesses left\")\n",
        "                while True:\n",
        "                    dupli = False\n",
        "                    letter = input(\"Input a letter you guess: \")\n",
        "                    letter = letter.lower()\n",
        "                    for i in letters_guessed:\n",
        "                        if i == letter:\n",
        "                            dupli = True\n",
        "                            print(\"It is already used!\")\n",
        "                            break\n",
        "                    if not dupli:\n",
        "                        break\n",
        "                letters_guessed.append(letter)\n",
        "                for i in range(0, len(secret_word)):\n",
        "                    if letter == secret_word[i]:\n",
        "                        guess_bool = True\n",
        "                        break\n",
        "                if guess_bool:\n",
        "                    print(\"You guessed right!\")\n",
        "                    print_guessed()\n",
        "                else:\n",
        "                    print(\"You guessed wrong!\")\n",
        "                    print_guessed()\n",
        "                    mistakes_made += 1\n",
        "                    attempt += 1\n",
        "            elif select_num == 2:\n",
        "                guess_bool = False\n",
        "                print(MAX_GUESSES - mistakes_made, \"guesses left\")\n",
        "                word = input(\"Input a word you guess: \")\n",
        "                word = word.lower()\n",
        "                if word == secret_word:\n",
        "                    print(\"You guessed right!\")\n",
        "                    break\n",
        "                else:\n",
        "                    print(\"You guessed wrong!\")\n",
        "                    print_guessed()\n",
        "                    attempt += 1\n",
        "                    mistakes_made += 2\n",
        "            else:\n",
        "                print(\"Input the correct number!\")\n",
        "\n",
        "        if word_guessed():\n",
        "            if attempt % 2 == 1:\n",
        "                print(\"Player1 won!\")\n",
        "            else:\n",
        "                print(\"Player2 won!\")\n",
        "        else:\n",
        "            print(\"The secret word is\", secret_word + \"!\")\n",
        "            print(\"Try again!\")\n",
        "    else:\n",
        "        print(\"You have inputted incorrect mode!\")\n",
        "        exit()\n",
        "\n",
        "    return None"
      ],
      "id": "495af04c-254a-4322-a0bf-ce37a2217d0e"
    },
    {
      "cell_type": "code",
      "execution_count": null,
      "metadata": {
        "id": "bc66ec28-cddb-4d03-a7d1-8a6dcea9005d"
      },
      "outputs": [],
      "source": [
        "if __name__ == \"__main__\":\n",
        "    # Execute when the module is not initialized from an import statement.\n",
        "    play_hangman()"
      ],
      "id": "bc66ec28-cddb-4d03-a7d1-8a6dcea9005d"
    },
    {
      "cell_type": "code",
      "execution_count": null,
      "metadata": {
        "id": "2fdd38ac-e88c-42b7-81cc-1dffd11a3c5e"
      },
      "outputs": [],
      "source": [],
      "id": "2fdd38ac-e88c-42b7-81cc-1dffd11a3c5e"
    },
    {
      "cell_type": "code",
      "execution_count": null,
      "metadata": {
        "id": "c91cb72b-a024-4051-8377-e0ceee2033e5"
      },
      "outputs": [],
      "source": [],
      "id": "c91cb72b-a024-4051-8377-e0ceee2033e5"
    }
  ],
  "metadata": {
    "colab": {
      "provenance": [],
      "include_colab_link": true
    },
    "kernelspec": {
      "display_name": "Python 3 (ipykernel)",
      "language": "python",
      "name": "python3"
    },
    "language_info": {
      "codemirror_mode": {
        "name": "ipython",
        "version": 3
      },
      "file_extension": ".py",
      "mimetype": "text/x-python",
      "name": "python",
      "nbconvert_exporter": "python",
      "pygments_lexer": "ipython3",
      "version": "3.7.11"
    }
  },
  "nbformat": 4,
  "nbformat_minor": 5
}